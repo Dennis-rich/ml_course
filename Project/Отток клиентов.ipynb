{
 "cells": [
  {
   "cell_type": "markdown",
   "metadata": {},
   "source": [
    "Выборка данных у нас уже есть - мы будем использовать данные с сайта kaggle для такой же задачи. \\\n",
    "**Ссылка на соревнование:** https://www.kaggle.com/adammaus/predicting-churn-for-bank-customers"
   ]
  },
  {
   "cell_type": "code",
   "execution_count": 1,
   "metadata": {},
   "outputs": [
    {
     "name": "stdout",
     "output_type": "stream",
     "text": [
      "1.2.7\n"
     ]
    }
   ],
   "source": [
    "import catboost\n",
    "print(catboost.__version__)"
   ]
  },
  {
   "cell_type": "code",
   "execution_count": 2,
   "metadata": {},
   "outputs": [],
   "source": [
    "#Наши стандартные библиотеки\n",
    "import numpy as np\n",
    "import pandas as pd\n",
    "\n",
    "# Для визуализации\n",
    "import matplotlib.pyplot as plt\n",
    "%matplotlib inline\n",
    "import seaborn as sns\n",
    "\n",
    "pd.options.display.max_rows = None\n",
    "pd.options.display.max_columns = None"
   ]
  },
  {
   "cell_type": "markdown",
   "metadata": {},
   "source": [
    "# Домашнее задание"
   ]
  },
  {
   "cell_type": "markdown",
   "metadata": {},
   "source": [
    "# Обучил 6 моделей\n",
    "# 1 - /workspaces/ml_course/Project/data/my_model.pkl - Логистическая регрессия 6 новых признаков 71\n",
    "# 2 - /workspaces/ml_course/Project/data/my_model.pkl2 - Логистическая регрессия 4 новых признака 72\n",
    "# 3 - /workspaces/ml_course/Project/data/my_model_v2.pkl - RandomForestRegression 4 новых признака c параметром балансировки классов 72\n",
    "# 4 - /workspaces/ml_course/Project/data/best_model.pkl - RandomForestRegression с GridSearch 4 новых признака 76\n",
    "# 5 - /workspaces/ml_course/Project/data/best_model_v2.pkl RandomForestRegression с GridSearch без генерации новых признаков 76\n",
    "# 6 - /workspaces/ml_course/Project/data/catboost_model.cbm 88"
   ]
  },
  {
   "cell_type": "code",
   "execution_count": 5,
   "metadata": {},
   "outputs": [],
   "source": [
    "import joblib\n",
    "\n",
    "model = joblib.load('/workspaces/ml_course/Project/data/best_model_v2.pkl')"
   ]
  },
  {
   "cell_type": "code",
   "execution_count": 18,
   "metadata": {},
   "outputs": [
    {
     "data": {
      "text/html": [
       "<div>\n",
       "<style scoped>\n",
       "    .dataframe tbody tr th:only-of-type {\n",
       "        vertical-align: middle;\n",
       "    }\n",
       "\n",
       "    .dataframe tbody tr th {\n",
       "        vertical-align: top;\n",
       "    }\n",
       "\n",
       "    .dataframe thead th {\n",
       "        text-align: right;\n",
       "    }\n",
       "</style>\n",
       "<table border=\"1\" class=\"dataframe\">\n",
       "  <thead>\n",
       "    <tr style=\"text-align: right;\">\n",
       "      <th></th>\n",
       "      <th>CreditScore</th>\n",
       "      <th>Geography</th>\n",
       "      <th>Gender</th>\n",
       "      <th>Age</th>\n",
       "      <th>Tenure</th>\n",
       "      <th>Balance</th>\n",
       "      <th>NumOfProducts</th>\n",
       "      <th>HasCrCard</th>\n",
       "      <th>IsActiveMember</th>\n",
       "      <th>EstimatedSalary</th>\n",
       "      <th>Exited</th>\n",
       "      <th>Age_CreditScore_interaction</th>\n",
       "      <th>Balance_EstimatedSalary_interaction</th>\n",
       "      <th>Age_Activity_interaction</th>\n",
       "      <th>Balance_Exited_interaction</th>\n",
       "    </tr>\n",
       "  </thead>\n",
       "  <tbody>\n",
       "    <tr>\n",
       "      <th>0</th>\n",
       "      <td>461</td>\n",
       "      <td>Spain</td>\n",
       "      <td>Female</td>\n",
       "      <td>25</td>\n",
       "      <td>6</td>\n",
       "      <td>0.00</td>\n",
       "      <td>2</td>\n",
       "      <td>1</td>\n",
       "      <td>1</td>\n",
       "      <td>15306.29</td>\n",
       "      <td>0</td>\n",
       "      <td>11525</td>\n",
       "      <td>0.000000e+00</td>\n",
       "      <td>25</td>\n",
       "      <td>0.0</td>\n",
       "    </tr>\n",
       "    <tr>\n",
       "      <th>1</th>\n",
       "      <td>619</td>\n",
       "      <td>France</td>\n",
       "      <td>Female</td>\n",
       "      <td>35</td>\n",
       "      <td>4</td>\n",
       "      <td>90413.12</td>\n",
       "      <td>1</td>\n",
       "      <td>1</td>\n",
       "      <td>1</td>\n",
       "      <td>20555.21</td>\n",
       "      <td>0</td>\n",
       "      <td>21665</td>\n",
       "      <td>1.858461e+09</td>\n",
       "      <td>35</td>\n",
       "      <td>0.0</td>\n",
       "    </tr>\n",
       "    <tr>\n",
       "      <th>2</th>\n",
       "      <td>699</td>\n",
       "      <td>France</td>\n",
       "      <td>Female</td>\n",
       "      <td>40</td>\n",
       "      <td>8</td>\n",
       "      <td>122038.34</td>\n",
       "      <td>1</td>\n",
       "      <td>1</td>\n",
       "      <td>0</td>\n",
       "      <td>102085.35</td>\n",
       "      <td>0</td>\n",
       "      <td>27960</td>\n",
       "      <td>1.245833e+10</td>\n",
       "      <td>0</td>\n",
       "      <td>0.0</td>\n",
       "    </tr>\n",
       "    <tr>\n",
       "      <th>3</th>\n",
       "      <td>558</td>\n",
       "      <td>Germany</td>\n",
       "      <td>Male</td>\n",
       "      <td>41</td>\n",
       "      <td>2</td>\n",
       "      <td>124227.14</td>\n",
       "      <td>1</td>\n",
       "      <td>1</td>\n",
       "      <td>1</td>\n",
       "      <td>111184.67</td>\n",
       "      <td>0</td>\n",
       "      <td>22878</td>\n",
       "      <td>1.381215e+10</td>\n",
       "      <td>41</td>\n",
       "      <td>0.0</td>\n",
       "    </tr>\n",
       "    <tr>\n",
       "      <th>4</th>\n",
       "      <td>638</td>\n",
       "      <td>France</td>\n",
       "      <td>Male</td>\n",
       "      <td>34</td>\n",
       "      <td>5</td>\n",
       "      <td>133501.36</td>\n",
       "      <td>1</td>\n",
       "      <td>0</td>\n",
       "      <td>1</td>\n",
       "      <td>155643.04</td>\n",
       "      <td>0</td>\n",
       "      <td>21692</td>\n",
       "      <td>2.077856e+10</td>\n",
       "      <td>34</td>\n",
       "      <td>0.0</td>\n",
       "    </tr>\n",
       "  </tbody>\n",
       "</table>\n",
       "</div>"
      ],
      "text/plain": [
       "   CreditScore Geography  Gender  Age  Tenure    Balance  NumOfProducts  \\\n",
       "0          461     Spain  Female   25       6       0.00              2   \n",
       "1          619    France  Female   35       4   90413.12              1   \n",
       "2          699    France  Female   40       8  122038.34              1   \n",
       "3          558   Germany    Male   41       2  124227.14              1   \n",
       "4          638    France    Male   34       5  133501.36              1   \n",
       "\n",
       "   HasCrCard  IsActiveMember  EstimatedSalary  Exited  \\\n",
       "0          1               1         15306.29       0   \n",
       "1          1               1         20555.21       0   \n",
       "2          1               0        102085.35       0   \n",
       "3          1               1        111184.67       0   \n",
       "4          0               1        155643.04       0   \n",
       "\n",
       "   Age_CreditScore_interaction  Balance_EstimatedSalary_interaction  \\\n",
       "0                        11525                         0.000000e+00   \n",
       "1                        21665                         1.858461e+09   \n",
       "2                        27960                         1.245833e+10   \n",
       "3                        22878                         1.381215e+10   \n",
       "4                        21692                         2.077856e+10   \n",
       "\n",
       "   Age_Activity_interaction  Balance_Exited_interaction  \n",
       "0                        25                         0.0  \n",
       "1                        35                         0.0  \n",
       "2                         0                         0.0  \n",
       "3                        41                         0.0  \n",
       "4                        34                         0.0  "
      ]
     },
     "execution_count": 18,
     "metadata": {},
     "output_type": "execute_result"
    }
   ],
   "source": [
    "# Создал новые признаки на основе существующих\n",
    "df = pd.read_csv(\"/workspaces/ml_course/Project/data/customer_churn.csv\")\n",
    "df.head()"
   ]
  },
  {
   "cell_type": "markdown",
   "metadata": {},
   "source": [
    "Следующая часть урока полностью ложится на ваши плечи:\n",
    "* Нужно правильно сгенерировать вспомогательные признаки, но сильно можно не увлекаться.\n",
    "* Правильно их обработать для подачи в модель.\n",
    "* И построить модель, которая будет давать достаточное качество."
   ]
  },
  {
   "cell_type": "markdown",
   "metadata": {},
   "source": [
    "Для защиты проекта необходимо будет построить модель, качество которой дает ROC-AUC не ниже 0.8. Оцениваться модель будет с помощью бота, а точнее функции - `BotProductStar.production_quality(answer=submission)`\n",
    "\n",
    "\n",
    "\n",
    "submission - это датафрем, в котором в первой колонке указан RowNumber из файла test, а в колонке predict предсказанная вероятность ухода клиента."
   ]
  },
  {
   "cell_type": "markdown",
   "metadata": {},
   "source": [
    "Здесь можно продолжить построение модели. Давайте вспомним, какие пункты осталось сделать."
   ]
  },
  {
   "cell_type": "code",
   "execution_count": 22,
   "metadata": {},
   "outputs": [],
   "source": [
    "from catboost import CatBoostClassifier\n",
    "import pandas as pd"
   ]
  },
  {
   "cell_type": "code",
   "execution_count": 23,
   "metadata": {},
   "outputs": [],
   "source": [
    "train = pd.read_csv('./data/train.csv')\n",
    "test = pd.read_csv('./data/test.csv')"
   ]
  },
  {
   "cell_type": "code",
   "execution_count": 24,
   "metadata": {},
   "outputs": [
    {
     "name": "stdout",
     "output_type": "stream",
     "text": [
      "Привет! Приятно познакомиться!\n",
      "Думаю...\n",
      "Ого! Датасет, сейчас мы будем его исследовать, интересно, что в нем.\n",
      "Сам я не справляюсь - нужна твоя помощь\n"
     ]
    }
   ],
   "source": [
    "from teacher_bot.churn_prediction import ChurnPrediction\n",
    "BotProductStar = ChurnPrediction()\n",
    "BotProductStar.test_task(df = train)\n"
   ]
  },
  {
   "cell_type": "code",
   "execution_count": 25,
   "metadata": {},
   "outputs": [
    {
     "name": "stdout",
     "output_type": "stream",
     "text": [
      "Запускаю тестирование...\n",
      "Проверяю метрики...\n",
      "Твой результат: 0.8809183242022688\n",
      "Наконец-то мы  сэкономили денег! Чтобы себя порадовать - можно посчитать примерные значения в деньгах, как мы посчитали с бейзлайном :). Финальная кодовая фраза '- моя любимая наука' Если вспомнить все предыдущие получится: Data Science - моя любимая наукаЧто-то правда, то правда - обожаю анализировать данные, особенно, когда мне помогают\n"
     ]
    }
   ],
   "source": [
    "model = CatBoostClassifier()\n",
    "model.load_model(\"/workspaces/ml_course/Project/data/catboost_model.cbm\", format='cbm')\n",
    "\n",
    "test = pd.read_csv('./data/test.csv')\n",
    "\n",
    "# Определяем категориальные признаки\n",
    "cat_features = ['Geography', 'Gender']\n",
    "\n",
    "test[cat_features] = test[cat_features].astype(str)\n",
    "\n",
    "X_test = test.drop(columns=['RowNumber', 'CustomerId', 'Surname'])\n",
    "submission = test[['RowNumber']].copy()\n",
    "submission['predict'] = model.predict_proba(X_test)[:, 1]\n",
    "\n",
    "# Оцениваем модель \n",
    "BotProductStar.production_quality(answer=submission)\n"
   ]
  }
 ],
 "metadata": {
  "kernelspec": {
   "display_name": "Python 3",
   "language": "python",
   "name": "python3"
  },
  "language_info": {
   "codemirror_mode": {
    "name": "ipython",
    "version": 3
   },
   "file_extension": ".py",
   "mimetype": "text/x-python",
   "name": "python",
   "nbconvert_exporter": "python",
   "pygments_lexer": "ipython3",
   "version": "3.12.1"
  }
 },
 "nbformat": 4,
 "nbformat_minor": 4
}

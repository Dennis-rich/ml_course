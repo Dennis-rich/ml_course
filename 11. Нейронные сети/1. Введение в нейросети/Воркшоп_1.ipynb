{
 "cells": [
  {
   "cell_type": "markdown",
   "metadata": {},
   "source": [
    "# Предсказание рейтинга поста по его параметрам"
   ]
  },
  {
   "cell_type": "markdown",
   "metadata": {},
   "source": [
    "На сайте имеется лента постов, которую читают пользователи. За каждый пост пользователи могут голосовать: поставить ему плюс или минус. Рейтинг поста - это разность между количеством плюсов и минусов.\n",
    "\n",
    "Каждый пост описывается некоторым набором параметров (время публикации, длина, тематические теги и т.п.)\n",
    "\n",
    "Задача состоит в том, чтобы предсказать ожидаемый финальный рейтинг этого поста.\n",
    "\n",
    "\n",
    "На примере этой задачи мы с вами познакомимся с Tensorflow + Keras и научимся строить простейшие модели нейросетей.\n",
    "\n",
    "Сперва немного познакомимся с датасетом, с которым нам предстоит работать:"
   ]
  },
  {
   "cell_type": "code",
   "execution_count": 1,
   "metadata": {},
   "outputs": [],
   "source": [
    "import pandas as pd\n",
    "import numpy as np\n",
    "import math\n",
    "import os\n",
    "\n",
    "os.environ['CUDA_VISIBLE_DEVICES'] = '-1'  # чтобы далее tensorflow не задействовал видеокарту"
   ]
  },
  {
   "cell_type": "code",
   "execution_count": 2,
   "metadata": {},
   "outputs": [],
   "source": [
    "df = pd.read_csv('posts_df.csv')"
   ]
  },
  {
   "cell_type": "code",
   "execution_count": 3,
   "metadata": {},
   "outputs": [
    {
     "data": {
      "text/plain": [
       "(262577, 8)"
      ]
     },
     "execution_count": 3,
     "metadata": {},
     "output_type": "execute_result"
    }
   ],
   "source": [
    "df.shape"
   ]
  },
  {
   "cell_type": "code",
   "execution_count": 4,
   "metadata": {},
   "outputs": [
    {
     "data": {
      "text/html": [
       "<div>\n",
       "<style scoped>\n",
       "    .dataframe tbody tr th:only-of-type {\n",
       "        vertical-align: middle;\n",
       "    }\n",
       "\n",
       "    .dataframe tbody tr th {\n",
       "        vertical-align: top;\n",
       "    }\n",
       "\n",
       "    .dataframe thead th {\n",
       "        text-align: right;\n",
       "    }\n",
       "</style>\n",
       "<table border=\"1\" class=\"dataframe\">\n",
       "  <thead>\n",
       "    <tr style=\"text-align: right;\">\n",
       "      <th></th>\n",
       "      <th>time</th>\n",
       "      <th>tags</th>\n",
       "      <th>nsfw</th>\n",
       "      <th>my</th>\n",
       "      <th>images</th>\n",
       "      <th>videos</th>\n",
       "      <th>text_len</th>\n",
       "      <th>rating</th>\n",
       "    </tr>\n",
       "  </thead>\n",
       "  <tbody>\n",
       "    <tr>\n",
       "      <th>0</th>\n",
       "      <td>1569877228</td>\n",
       "      <td>Творчество детское, Рисунок, Детский сад, Детс...</td>\n",
       "      <td>0</td>\n",
       "      <td>1</td>\n",
       "      <td>2</td>\n",
       "      <td>0</td>\n",
       "      <td>135</td>\n",
       "      <td>683</td>\n",
       "    </tr>\n",
       "    <tr>\n",
       "      <th>1</th>\n",
       "      <td>1569877232</td>\n",
       "      <td>Собака, Было-Стало, {#73#}</td>\n",
       "      <td>0</td>\n",
       "      <td>1</td>\n",
       "      <td>1</td>\n",
       "      <td>0</td>\n",
       "      <td>113</td>\n",
       "      <td>480</td>\n",
       "    </tr>\n",
       "    <tr>\n",
       "      <th>2</th>\n",
       "      <td>1569877241</td>\n",
       "      <td>Дерево, Поле, Фотография</td>\n",
       "      <td>0</td>\n",
       "      <td>0</td>\n",
       "      <td>1</td>\n",
       "      <td>0</td>\n",
       "      <td>0</td>\n",
       "      <td>301</td>\n",
       "    </tr>\n",
       "    <tr>\n",
       "      <th>3</th>\n",
       "      <td>1569877249</td>\n",
       "      <td>Военторг, Из сети, Продукты, Длиннопост</td>\n",
       "      <td>0</td>\n",
       "      <td>0</td>\n",
       "      <td>4</td>\n",
       "      <td>0</td>\n",
       "      <td>0</td>\n",
       "      <td>425</td>\n",
       "    </tr>\n",
       "    <tr>\n",
       "      <th>4</th>\n",
       "      <td>1569877259</td>\n",
       "      <td>Mortal Kombat 11, Тизер, Текст, Геймеры, Новос...</td>\n",
       "      <td>0</td>\n",
       "      <td>0</td>\n",
       "      <td>1</td>\n",
       "      <td>0</td>\n",
       "      <td>726</td>\n",
       "      <td>617</td>\n",
       "    </tr>\n",
       "  </tbody>\n",
       "</table>\n",
       "</div>"
      ],
      "text/plain": [
       "         time                                               tags  nsfw  my  \\\n",
       "0  1569877228  Творчество детское, Рисунок, Детский сад, Детс...     0   1   \n",
       "1  1569877232                         Собака, Было-Стало, {#73#}     0   1   \n",
       "2  1569877241                           Дерево, Поле, Фотография     0   0   \n",
       "3  1569877249            Военторг, Из сети, Продукты, Длиннопост     0   0   \n",
       "4  1569877259  Mortal Kombat 11, Тизер, Текст, Геймеры, Новос...     0   0   \n",
       "\n",
       "   images  videos  text_len  rating  \n",
       "0       2       0       135     683  \n",
       "1       1       0       113     480  \n",
       "2       1       0         0     301  \n",
       "3       4       0         0     425  \n",
       "4       1       0       726     617  "
      ]
     },
     "execution_count": 4,
     "metadata": {},
     "output_type": "execute_result"
    }
   ],
   "source": [
    "df.head()"
   ]
  },
  {
   "cell_type": "markdown",
   "metadata": {},
   "source": [
    "`time` - время публикации поста в формате unix timestamp\n",
    "\n",
    "`tags` - тематические теги поста\n",
    "\n",
    "`nsfw` - относится ли пост к тематике 18+\n",
    "\n",
    "`my` - является ли пост оригинальным авторским\n",
    "\n",
    "`images` - количество картинок в посте\n",
    "\n",
    "`videos` - количество видео в посте\n",
    "\n",
    "`text_len` - длина текста в посте\n",
    "\n",
    "`rating` - финальный рейтинг поста (целевая переменная)"
   ]
  },
  {
   "cell_type": "markdown",
   "metadata": {},
   "source": [
    "Давайте из столбца `time` вытащим сведения о том, в какое время суток был опубликован пост. \n",
    "\n",
    "Но если мы будем кодировать время суток как просто количество секунд, прошедшее с определённого момента, то мы не сможем учесть тот факт, что минимальные и максимальные моменты времени достаточно близки друг к другу. Так, например, время 23:59 и 00:01 - практически одно и то же, но на нашей шкале они будут максимально далеко друг от друга. \n",
    "\n",
    "Для того, чтобы избежать такого эффекта, представим время как угловую координату на окружности (меняющуюся от 0 до 2pi) и закодируем его в виде двух переменных: синуса и косинуса этого угла. В таком случае близкие друг к другу моменты времени будут иметь близкие значения во входных данных."
   ]
  },
  {
   "cell_type": "code",
   "execution_count": 5,
   "metadata": {},
   "outputs": [],
   "source": [
    "# получим количество секунд, прошедшее с начала суток\n",
    "df['time'] = df['time'] % (60*60*24)\n",
    "\n",
    "# и отнормируем все значения на 2pi\n",
    "df['time'] = (df['time'] / df['time'].max()) * 2*math.pi"
   ]
  },
  {
   "cell_type": "code",
   "execution_count": 6,
   "metadata": {},
   "outputs": [],
   "source": [
    "# добавим колонки с синусом и косинусом нашего времени\n",
    "tsin_list = []\n",
    "tcos_list = []\n",
    "for row in df['time']:\n",
    "    tsin_list.append(math.sin(row))\n",
    "    tcos_list.append(math.cos(row))\n",
    "\n",
    "df['tsin'] = tsin_list\n",
    "df['tcos'] = tcos_list"
   ]
  },
  {
   "cell_type": "code",
   "execution_count": 7,
   "metadata": {},
   "outputs": [],
   "source": [
    "df = df.drop(columns=['time'])"
   ]
  },
  {
   "cell_type": "code",
   "execution_count": 8,
   "metadata": {},
   "outputs": [
    {
     "data": {
      "text/html": [
       "<div>\n",
       "<style scoped>\n",
       "    .dataframe tbody tr th:only-of-type {\n",
       "        vertical-align: middle;\n",
       "    }\n",
       "\n",
       "    .dataframe tbody tr th {\n",
       "        vertical-align: top;\n",
       "    }\n",
       "\n",
       "    .dataframe thead th {\n",
       "        text-align: right;\n",
       "    }\n",
       "</style>\n",
       "<table border=\"1\" class=\"dataframe\">\n",
       "  <thead>\n",
       "    <tr style=\"text-align: right;\">\n",
       "      <th></th>\n",
       "      <th>tags</th>\n",
       "      <th>nsfw</th>\n",
       "      <th>my</th>\n",
       "      <th>images</th>\n",
       "      <th>videos</th>\n",
       "      <th>text_len</th>\n",
       "      <th>rating</th>\n",
       "      <th>tsin</th>\n",
       "      <th>tcos</th>\n",
       "    </tr>\n",
       "  </thead>\n",
       "  <tbody>\n",
       "    <tr>\n",
       "      <th>0</th>\n",
       "      <td>Творчество детское, Рисунок, Детский сад, Детс...</td>\n",
       "      <td>0</td>\n",
       "      <td>1</td>\n",
       "      <td>2</td>\n",
       "      <td>0</td>\n",
       "      <td>135</td>\n",
       "      <td>683</td>\n",
       "      <td>-0.705620</td>\n",
       "      <td>0.708590</td>\n",
       "    </tr>\n",
       "    <tr>\n",
       "      <th>1</th>\n",
       "      <td>Собака, Было-Стало, {#73#}</td>\n",
       "      <td>0</td>\n",
       "      <td>1</td>\n",
       "      <td>1</td>\n",
       "      <td>0</td>\n",
       "      <td>113</td>\n",
       "      <td>480</td>\n",
       "      <td>-0.705414</td>\n",
       "      <td>0.708795</td>\n",
       "    </tr>\n",
       "    <tr>\n",
       "      <th>2</th>\n",
       "      <td>Дерево, Поле, Фотография</td>\n",
       "      <td>0</td>\n",
       "      <td>0</td>\n",
       "      <td>1</td>\n",
       "      <td>0</td>\n",
       "      <td>0</td>\n",
       "      <td>301</td>\n",
       "      <td>-0.704950</td>\n",
       "      <td>0.709257</td>\n",
       "    </tr>\n",
       "    <tr>\n",
       "      <th>3</th>\n",
       "      <td>Военторг, Из сети, Продукты, Длиннопост</td>\n",
       "      <td>0</td>\n",
       "      <td>0</td>\n",
       "      <td>4</td>\n",
       "      <td>0</td>\n",
       "      <td>0</td>\n",
       "      <td>425</td>\n",
       "      <td>-0.704537</td>\n",
       "      <td>0.709667</td>\n",
       "    </tr>\n",
       "    <tr>\n",
       "      <th>4</th>\n",
       "      <td>Mortal Kombat 11, Тизер, Текст, Геймеры, Новос...</td>\n",
       "      <td>0</td>\n",
       "      <td>0</td>\n",
       "      <td>1</td>\n",
       "      <td>0</td>\n",
       "      <td>726</td>\n",
       "      <td>617</td>\n",
       "      <td>-0.704021</td>\n",
       "      <td>0.710179</td>\n",
       "    </tr>\n",
       "  </tbody>\n",
       "</table>\n",
       "</div>"
      ],
      "text/plain": [
       "                                                tags  nsfw  my  images  \\\n",
       "0  Творчество детское, Рисунок, Детский сад, Детс...     0   1       2   \n",
       "1                         Собака, Было-Стало, {#73#}     0   1       1   \n",
       "2                           Дерево, Поле, Фотография     0   0       1   \n",
       "3            Военторг, Из сети, Продукты, Длиннопост     0   0       4   \n",
       "4  Mortal Kombat 11, Тизер, Текст, Геймеры, Новос...     0   0       1   \n",
       "\n",
       "   videos  text_len  rating      tsin      tcos  \n",
       "0       0       135     683 -0.705620  0.708590  \n",
       "1       0       113     480 -0.705414  0.708795  \n",
       "2       0         0     301 -0.704950  0.709257  \n",
       "3       0         0     425 -0.704537  0.709667  \n",
       "4       0       726     617 -0.704021  0.710179  "
      ]
     },
     "execution_count": 8,
     "metadata": {},
     "output_type": "execute_result"
    }
   ],
   "source": [
    "df.head()"
   ]
  },
  {
   "cell_type": "markdown",
   "metadata": {},
   "source": [
    "Теперь разберёмся с тегами. Их достаточно много разных.\n",
    "\n",
    "Среди них встречаются теги вида `{#73#}` - это теги сообществ. Т.к. они достаточно редки, давайте уберём их, но добавим в наш датасет дополнительный признак - был ли пост опубликован в сообществе."
   ]
  },
  {
   "cell_type": "code",
   "execution_count": 9,
   "metadata": {},
   "outputs": [],
   "source": [
    "#сделаем из строк списки с тегами\n",
    "df['tags'] = df['tags'].apply(lambda x: x.split(', '))"
   ]
  },
  {
   "cell_type": "code",
   "execution_count": 10,
   "metadata": {},
   "outputs": [],
   "source": [
    "in_comm_list = []  # новый столбец в нашем датасете, \"был ли пост опубликован в сообществе\"\n",
    "\n",
    "# удалим теги, начинающиеся и заканчивающиеся фигурной скобкой, \n",
    "# при этом запомнив, что пост был в сообществе\n",
    "for row in df['tags']:\n",
    "    is_in_comm = 0\n",
    "    for tag in row:\n",
    "        if tag[0] == '{' and tag[-1] == '}':\n",
    "            row.remove(tag)\n",
    "            is_in_comm = 1\n",
    "    in_comm_list.append(is_in_comm)\n",
    "\n",
    "df['in_comm'] = in_comm_list"
   ]
  },
  {
   "cell_type": "markdown",
   "metadata": {},
   "source": [
    "Теперь давайте посмотрим, сколько вообще у нас имеется разных тегов:"
   ]
  },
  {
   "cell_type": "code",
   "execution_count": 11,
   "metadata": {},
   "outputs": [
    {
     "name": "stdout",
     "output_type": "stream",
     "text": [
      "Количество используемых тегов: 63385\n"
     ]
    }
   ],
   "source": [
    "# воспользуемся множествами, чтобы каждый тег учесть только в одном экземпляре\n",
    "tags_set = set()\n",
    "\n",
    "# добавим все имеющиеся теги в множество\n",
    "for row in df['tags']:\n",
    "    for tag in row:\n",
    "        tags_set.add(tag)\n",
    "\n",
    "print(f\"Количество используемых тегов: {len(tags_set)}\")"
   ]
  },
  {
   "cell_type": "markdown",
   "metadata": {},
   "source": [
    "Тегов много, но многие из них используются достаточно редко и вряд ли дадут нам много информации. Поэтому давайте при помощи One-Hot Encoding закодируем 50 самых популярных тегов, а если никакие из них не встречаются в посте, укажем это в дополнительном столбце `other`."
   ]
  },
  {
   "cell_type": "code",
   "execution_count": 12,
   "metadata": {},
   "outputs": [],
   "source": [
    "# создадим словарь для подсчёта того, \n",
    "# сколько раз каждый тег встречается в нашем датасете\n",
    "tags_dict = {tag: 0 for tag in tags_set}\n",
    "\n",
    "for row in df['tags']:\n",
    "    for tag in row:\n",
    "        tags_dict[tag] += 1"
   ]
  },
  {
   "cell_type": "code",
   "execution_count": 13,
   "metadata": {},
   "outputs": [],
   "source": [
    "# преобразуем словарь в список пар (тег, кол-во вхождений)\n",
    "# и отсортируем его по убыванию числа вхождений тега\n",
    "tags_list = list(tags_dict.items())\n",
    "tags_list.sort(key=lambda x: x[1], reverse=True)"
   ]
  },
  {
   "cell_type": "code",
   "execution_count": 14,
   "metadata": {},
   "outputs": [
    {
     "data": {
      "text/plain": [
       "[('Длиннопост', 75128),\n",
       " ('Текст', 59256),\n",
       " ('Видео', 34107),\n",
       " ('Юмор', 14957),\n",
       " ('Кот', 13512),\n",
       " ('Фотография', 10869),\n",
       " ('Мат', 8662),\n",
       " ('Скриншот', 8251),\n",
       " ('Арт', 7585),\n",
       " ('Комиксы', 6446)]"
      ]
     },
     "execution_count": 14,
     "metadata": {},
     "output_type": "execute_result"
    }
   ],
   "source": [
    "# 10 самых популярных тегов:\n",
    "tags_list[:10]"
   ]
  },
  {
   "cell_type": "code",
   "execution_count": 15,
   "metadata": {},
   "outputs": [
    {
     "data": {
      "text/plain": [
       "[('Крис Рок', 1),\n",
       " ('Шкаф-Мастерская', 1),\n",
       " ('Ла-Манш', 1),\n",
       " ('Каттелан', 1),\n",
       " ('Gowther', 1),\n",
       " ('На ощупь', 1),\n",
       " ('Рапан', 1),\n",
       " ('Индексация пенсий', 1),\n",
       " ('Выпады', 1),\n",
       " ('Скинул вес', 1)]"
      ]
     },
     "execution_count": 15,
     "metadata": {},
     "output_type": "execute_result"
    }
   ],
   "source": [
    "# 10 самых непопулярных тегов:\n",
    "tags_list[-10:]"
   ]
  },
  {
   "cell_type": "code",
   "execution_count": 16,
   "metadata": {},
   "outputs": [],
   "source": [
    "# будем использовать только 50 самых популярных тегов\n",
    "tags2use = 50\n",
    "popular_tags = [t[0] for t in tags_list[:tags2use]]"
   ]
  },
  {
   "cell_type": "code",
   "execution_count": 17,
   "metadata": {},
   "outputs": [],
   "source": [
    "# создадим в датафрейме колонку под каждый тег, \n",
    "# где отметим, встречался ли этот тег в посте\n",
    "for tag in popular_tags:\n",
    "    df[tag] = df['tags'].apply(lambda x: int(tag in x))"
   ]
  },
  {
   "cell_type": "code",
   "execution_count": 18,
   "metadata": {},
   "outputs": [],
   "source": [
    "# в столбце `other` сделаем отметку, \n",
    "# если пост не описывается популярными тегами \n",
    "# (т.е. в столбцах с тегами стоят одни нули)\n",
    "df['other'] = df[popular_tags].sum(axis=1)\n",
    "df['other'] = df['other'].apply(lambda x: int(x == 0))"
   ]
  },
  {
   "cell_type": "code",
   "execution_count": 19,
   "metadata": {},
   "outputs": [
    {
     "data": {
      "text/html": [
       "<div>\n",
       "<style scoped>\n",
       "    .dataframe tbody tr th:only-of-type {\n",
       "        vertical-align: middle;\n",
       "    }\n",
       "\n",
       "    .dataframe tbody tr th {\n",
       "        vertical-align: top;\n",
       "    }\n",
       "\n",
       "    .dataframe thead th {\n",
       "        text-align: right;\n",
       "    }\n",
       "</style>\n",
       "<table border=\"1\" class=\"dataframe\">\n",
       "  <thead>\n",
       "    <tr style=\"text-align: right;\">\n",
       "      <th></th>\n",
       "      <th>tags</th>\n",
       "      <th>nsfw</th>\n",
       "      <th>my</th>\n",
       "      <th>images</th>\n",
       "      <th>videos</th>\n",
       "      <th>text_len</th>\n",
       "      <th>rating</th>\n",
       "      <th>tsin</th>\n",
       "      <th>tcos</th>\n",
       "      <th>in_comm</th>\n",
       "      <th>...</th>\n",
       "      <th>Своими руками</th>\n",
       "      <th>My Little Pony</th>\n",
       "      <th>Музыка</th>\n",
       "      <th>Мошенничество</th>\n",
       "      <th>Отношения</th>\n",
       "      <th>Стихи</th>\n",
       "      <th>Зима</th>\n",
       "      <th>СССР</th>\n",
       "      <th>Еда</th>\n",
       "      <th>other</th>\n",
       "    </tr>\n",
       "  </thead>\n",
       "  <tbody>\n",
       "    <tr>\n",
       "      <th>0</th>\n",
       "      <td>[Творчество детское, Рисунок, Детский сад, Дет...</td>\n",
       "      <td>0</td>\n",
       "      <td>1</td>\n",
       "      <td>2</td>\n",
       "      <td>0</td>\n",
       "      <td>135</td>\n",
       "      <td>683</td>\n",
       "      <td>-0.705620</td>\n",
       "      <td>0.708590</td>\n",
       "      <td>0</td>\n",
       "      <td>...</td>\n",
       "      <td>0</td>\n",
       "      <td>0</td>\n",
       "      <td>0</td>\n",
       "      <td>0</td>\n",
       "      <td>0</td>\n",
       "      <td>0</td>\n",
       "      <td>0</td>\n",
       "      <td>0</td>\n",
       "      <td>0</td>\n",
       "      <td>0</td>\n",
       "    </tr>\n",
       "    <tr>\n",
       "      <th>1</th>\n",
       "      <td>[Собака, Было-Стало]</td>\n",
       "      <td>0</td>\n",
       "      <td>1</td>\n",
       "      <td>1</td>\n",
       "      <td>0</td>\n",
       "      <td>113</td>\n",
       "      <td>480</td>\n",
       "      <td>-0.705414</td>\n",
       "      <td>0.708795</td>\n",
       "      <td>1</td>\n",
       "      <td>...</td>\n",
       "      <td>0</td>\n",
       "      <td>0</td>\n",
       "      <td>0</td>\n",
       "      <td>0</td>\n",
       "      <td>0</td>\n",
       "      <td>0</td>\n",
       "      <td>0</td>\n",
       "      <td>0</td>\n",
       "      <td>0</td>\n",
       "      <td>0</td>\n",
       "    </tr>\n",
       "    <tr>\n",
       "      <th>2</th>\n",
       "      <td>[Дерево, Поле, Фотография]</td>\n",
       "      <td>0</td>\n",
       "      <td>0</td>\n",
       "      <td>1</td>\n",
       "      <td>0</td>\n",
       "      <td>0</td>\n",
       "      <td>301</td>\n",
       "      <td>-0.704950</td>\n",
       "      <td>0.709257</td>\n",
       "      <td>0</td>\n",
       "      <td>...</td>\n",
       "      <td>0</td>\n",
       "      <td>0</td>\n",
       "      <td>0</td>\n",
       "      <td>0</td>\n",
       "      <td>0</td>\n",
       "      <td>0</td>\n",
       "      <td>0</td>\n",
       "      <td>0</td>\n",
       "      <td>0</td>\n",
       "      <td>0</td>\n",
       "    </tr>\n",
       "    <tr>\n",
       "      <th>3</th>\n",
       "      <td>[Военторг, Из сети, Продукты, Длиннопост]</td>\n",
       "      <td>0</td>\n",
       "      <td>0</td>\n",
       "      <td>4</td>\n",
       "      <td>0</td>\n",
       "      <td>0</td>\n",
       "      <td>425</td>\n",
       "      <td>-0.704537</td>\n",
       "      <td>0.709667</td>\n",
       "      <td>0</td>\n",
       "      <td>...</td>\n",
       "      <td>0</td>\n",
       "      <td>0</td>\n",
       "      <td>0</td>\n",
       "      <td>0</td>\n",
       "      <td>0</td>\n",
       "      <td>0</td>\n",
       "      <td>0</td>\n",
       "      <td>0</td>\n",
       "      <td>0</td>\n",
       "      <td>0</td>\n",
       "    </tr>\n",
       "    <tr>\n",
       "      <th>4</th>\n",
       "      <td>[Mortal Kombat 11, Тизер, Текст, Геймеры, Ново...</td>\n",
       "      <td>0</td>\n",
       "      <td>0</td>\n",
       "      <td>1</td>\n",
       "      <td>0</td>\n",
       "      <td>726</td>\n",
       "      <td>617</td>\n",
       "      <td>-0.704021</td>\n",
       "      <td>0.710179</td>\n",
       "      <td>0</td>\n",
       "      <td>...</td>\n",
       "      <td>0</td>\n",
       "      <td>0</td>\n",
       "      <td>0</td>\n",
       "      <td>0</td>\n",
       "      <td>0</td>\n",
       "      <td>0</td>\n",
       "      <td>0</td>\n",
       "      <td>0</td>\n",
       "      <td>0</td>\n",
       "      <td>0</td>\n",
       "    </tr>\n",
       "  </tbody>\n",
       "</table>\n",
       "<p>5 rows × 61 columns</p>\n",
       "</div>"
      ],
      "text/plain": [
       "                                                tags  nsfw  my  images  \\\n",
       "0  [Творчество детское, Рисунок, Детский сад, Дет...     0   1       2   \n",
       "1                               [Собака, Было-Стало]     0   1       1   \n",
       "2                         [Дерево, Поле, Фотография]     0   0       1   \n",
       "3          [Военторг, Из сети, Продукты, Длиннопост]     0   0       4   \n",
       "4  [Mortal Kombat 11, Тизер, Текст, Геймеры, Ново...     0   0       1   \n",
       "\n",
       "   videos  text_len  rating      tsin      tcos  in_comm  ...  Своими руками  \\\n",
       "0       0       135     683 -0.705620  0.708590        0  ...              0   \n",
       "1       0       113     480 -0.705414  0.708795        1  ...              0   \n",
       "2       0         0     301 -0.704950  0.709257        0  ...              0   \n",
       "3       0         0     425 -0.704537  0.709667        0  ...              0   \n",
       "4       0       726     617 -0.704021  0.710179        0  ...              0   \n",
       "\n",
       "   My Little Pony  Музыка  Мошенничество  Отношения  Стихи  Зима  СССР  Еда  \\\n",
       "0               0       0              0          0      0     0     0    0   \n",
       "1               0       0              0          0      0     0     0    0   \n",
       "2               0       0              0          0      0     0     0    0   \n",
       "3               0       0              0          0      0     0     0    0   \n",
       "4               0       0              0          0      0     0     0    0   \n",
       "\n",
       "   other  \n",
       "0      0  \n",
       "1      0  \n",
       "2      0  \n",
       "3      0  \n",
       "4      0  \n",
       "\n",
       "[5 rows x 61 columns]"
      ]
     },
     "execution_count": 19,
     "metadata": {},
     "output_type": "execute_result"
    }
   ],
   "source": [
    "df.head()"
   ]
  },
  {
   "cell_type": "code",
   "execution_count": 20,
   "metadata": {},
   "outputs": [
    {
     "data": {
      "text/plain": [
       "Длиннопост                   0.286118\n",
       "Текст                        0.225671\n",
       "Видео                        0.129893\n",
       "Юмор                         0.056962\n",
       "Кот                          0.051459\n",
       "Фотография                   0.041394\n",
       "Мат                          0.032272\n",
       "Скриншот                     0.031423\n",
       "Арт                          0.028887\n",
       "Комиксы                      0.024549\n",
       "Аниме                        0.022454\n",
       "История                      0.020272\n",
       "Anime Art                    0.020268\n",
       "Собака                       0.019362\n",
       "Без рейтинга                 0.019122\n",
       "Комментарии на Пикабу        0.018303\n",
       "Политика                     0.017599\n",
       "Новый Год                    0.017515\n",
       "Дети                         0.017092\n",
       "Рисунок                      0.016806\n",
       "Картинка с текстом           0.016209\n",
       "Новости                      0.016163\n",
       "Девушки                      0.015782\n",
       "Помощь                       0.015100\n",
       "Россия                       0.014929\n",
       "Котомафия                    0.014918\n",
       "Работа                       0.014571\n",
       "Гифка                        0.014464\n",
       "Игры                         0.013840\n",
       "Реальная история из жизни    0.012709\n",
       "Негатив                      0.012659\n",
       "Комментарии                  0.012080\n",
       "Животные                     0.011140\n",
       "Мемы                         0.011094\n",
       "Рассказ                      0.010881\n",
       "Авто                         0.010226\n",
       "Фильмы                       0.010058\n",
       "Москва                       0.009871\n",
       "Санкт-Петербург              0.009502\n",
       "Рукоделие без процесса       0.009372\n",
       "Милота                       0.009346\n",
       "Своими руками                0.009030\n",
       "My Little Pony               0.008889\n",
       "Музыка                       0.008805\n",
       "Мошенничество                0.008775\n",
       "Отношения                    0.008725\n",
       "Стихи                        0.008417\n",
       "Зима                         0.008398\n",
       "СССР                         0.008394\n",
       "Еда                          0.008299\n",
       "other                        0.156804\n",
       "dtype: float64"
      ]
     },
     "execution_count": 20,
     "metadata": {},
     "output_type": "execute_result"
    }
   ],
   "source": [
    "df[popular_tags + ['other']].mean()"
   ]
  },
  {
   "cell_type": "code",
   "execution_count": 21,
   "metadata": {},
   "outputs": [],
   "source": [
    "df = df.drop(columns=['tags'])"
   ]
  },
  {
   "cell_type": "code",
   "execution_count": 22,
   "metadata": {},
   "outputs": [],
   "source": [
    "# подготовим массивы входных и выходных данных\n",
    "X = df.drop(columns=['rating']).to_numpy()\n",
    "Y = df['rating'].to_numpy()"
   ]
  },
  {
   "cell_type": "code",
   "execution_count": 23,
   "metadata": {},
   "outputs": [
    {
     "data": {
      "text/plain": [
       "(262577, 59)"
      ]
     },
     "execution_count": 23,
     "metadata": {},
     "output_type": "execute_result"
    }
   ],
   "source": [
    "X.shape"
   ]
  },
  {
   "cell_type": "code",
   "execution_count": 24,
   "metadata": {},
   "outputs": [
    {
     "data": {
      "text/plain": [
       "(262577,)"
      ]
     },
     "execution_count": 24,
     "metadata": {},
     "output_type": "execute_result"
    }
   ],
   "source": [
    "Y.shape"
   ]
  },
  {
   "cell_type": "markdown",
   "metadata": {},
   "source": [
    "Датасет подготовлен, теперь можно и натравить на него нейросеть!"
   ]
  },
  {
   "cell_type": "code",
   "execution_count": 25,
   "metadata": {},
   "outputs": [],
   "source": [
    "import tensorflow as tf"
   ]
  },
  {
   "cell_type": "markdown",
   "metadata": {},
   "source": [
    "Модуль `keras` является полноценной частью TF. С его помощью можно легко и быстро строить модели нейросетей. \n",
    "\n",
    "Существует несколько способов задать архитектуру нейросети в Keras. Самый простой из них (но и наименее гибкий) - последовательная структура: `tf.keras.models.Sequential`. С помощью последовательной модели можно задачать нейросеть, состоящую из последовательно соединённых друг с другом слоёв.\n",
    "\n",
    "Среди всех слоёв нам сейчас нужен полносвязный слой: `tf.keras.layers.Dense`. Это обычный слой из нейронов, к каждому из которых присоединены все выходы с предыдущего слоя (полная связность)."
   ]
  },
  {
   "cell_type": "code",
   "execution_count": 26,
   "metadata": {},
   "outputs": [],
   "source": [
    "# создадим последовательную модель при помощи Keras\n",
    "\n",
    "model = tf.keras.models.Sequential([\n",
    "    # в качестве аргумента необходимо указать список слоёв нейросети\n",
    "    \n",
    "    # в первом аргументе Dense-слоя указывается количество нейронов в нём\n",
    "    tf.keras.layers.Dense(10,\n",
    "                          # также в первом слое необходимо указать размерность данных, которые будут подаваться на вход\n",
    "                          # в нашем случае это одномерный массив, так что просто указываем его длину в `input_shape`\n",
    "                          input_shape=(X.shape[1],),\n",
    "                          # функцию активации также берём готовую из Keras\n",
    "                          activation=tf.keras.activations.relu,\n",
    "                         ),\n",
    "    \n",
    "    # для некоторых популярных функций активации предусмотеры \n",
    "    # удобные строковые сокращения, например: 'relu', 'sigmoid', 'linear'\n",
    "    # также при желании слою можно дать название\n",
    "    tf.keras.layers.Dense(10, activation='relu', name='l2'),\n",
    "    \n",
    "    # для нашей задачи в качестве последнего слоя достаточно\n",
    "    # использовать 1 нейрон с линейной функцией активации\n",
    "    tf.keras.layers.Dense(1, activation=tf.keras.activations.linear, name='out')\n",
    "])"
   ]
  },
  {
   "cell_type": "code",
   "execution_count": 27,
   "metadata": {},
   "outputs": [
    {
     "name": "stdout",
     "output_type": "stream",
     "text": [
      "Model: \"sequential\"\n",
      "_________________________________________________________________\n",
      "Layer (type)                 Output Shape              Param #   \n",
      "=================================================================\n",
      "dense (Dense)                (None, 10)                600       \n",
      "_________________________________________________________________\n",
      "l2 (Dense)                   (None, 10)                110       \n",
      "_________________________________________________________________\n",
      "out (Dense)                  (None, 1)                 11        \n",
      "=================================================================\n",
      "Total params: 721\n",
      "Trainable params: 721\n",
      "Non-trainable params: 0\n",
      "_________________________________________________________________\n"
     ]
    }
   ],
   "source": [
    "# посмотрим на структуру получившейся нейросети\n",
    "model.summary()"
   ]
  },
  {
   "cell_type": "markdown",
   "metadata": {},
   "source": [
    "В сводке отображается информация о слоях с теми именами, которые мы им дали.\n",
    "\n",
    "Обратим внимание, что в столбце `Output Shape` указано 2 измерения, но первое значение пусто. Эта графа описывает формат данных, получающихся на выходе каждого слоя. Мы с вами знаем, что у полносвязного слоя с 10 нейронами должно быть 10 выходов, что и отражено во второй цифре. \n",
    "\n",
    "Однако на самом деле наша нейросеть может обрабатывать данные не только по одному вектору, но и сразу параллельно целыми \"пачками\" векторов, т.е. \"батчами\". Соответственно, если слой работает не с одним вектором, а сразу с батчем, то он и выдаст не один вектор, а целую матрицу из них. \n",
    "\n",
    "Под размер батча и зарезервирован первый аргумент. Но т.к. нейросеть ещё не знает, с какими данными ей предстоит работать, там стоит None. Хотя ей, в принципе, всё равно =)\n",
    "\n",
    "В последнем столбце указано количество весов в слое. Обратите внимание, что весов несколько больше: так, например, последний слой из одного нейрона имеет 11 весов, хотя подсоединён к слою из 10 нейронов. Один дополнительный вес приходится на bias-нейрон, который неявно содержится в предыдущем слое.\n",
    "\n",
    "При желании во время создания модели bias можно отключить, прописав в параметрах слоя `use_bias=False`, но делать это не рекомендуется."
   ]
  },
  {
   "cell_type": "code",
   "execution_count": 28,
   "metadata": {},
   "outputs": [
    {
     "data": {
      "text/plain": [
       "[array([[ 0.2138719 ],\n",
       "        [-0.6740933 ],\n",
       "        [-0.17233282],\n",
       "        [ 0.2870242 ],\n",
       "        [ 0.44022638],\n",
       "        [-0.6103617 ],\n",
       "        [ 0.31063086],\n",
       "        [ 0.16324818],\n",
       "        [ 0.610529  ],\n",
       "        [ 0.47640544]], dtype=float32),\n",
       " array([0.], dtype=float32)]"
      ]
     },
     "execution_count": 28,
     "metadata": {},
     "output_type": "execute_result"
    }
   ],
   "source": [
    "# при желании мы можем посмотреть на веса в каждом слое\n",
    "# например, в последнем слое это просто вектор-строка из 10 случайных чисел + нулевой bias:\n",
    "model.layers[-1].get_weights()"
   ]
  },
  {
   "cell_type": "code",
   "execution_count": 29,
   "metadata": {},
   "outputs": [
    {
     "data": {
      "text/plain": [
       "[array([[-0.368545  ,  0.1864711 , -0.09445062,  0.11372906,  0.17744154,\n",
       "          0.26156622, -0.35232228, -0.3176524 ,  0.46075654,  0.1699897 ],\n",
       "        [ 0.18791741, -0.06210116,  0.42114556, -0.44434515,  0.06492782,\n",
       "         -0.44231138,  0.5364237 ,  0.04543197, -0.08943725, -0.47371736],\n",
       "        [-0.4891815 ,  0.02476561,  0.30045944,  0.37883556, -0.37237173,\n",
       "          0.12912482, -0.20946038, -0.40734717,  0.10282779,  0.11628169],\n",
       "        [ 0.00655746, -0.06056115, -0.50220054,  0.29067218, -0.11144197,\n",
       "         -0.4308905 , -0.25079265, -0.15814114,  0.51037896, -0.18517205],\n",
       "        [-0.21220139,  0.12465495,  0.32452863,  0.36221558,  0.31498867,\n",
       "         -0.26083744, -0.31774318, -0.31384984, -0.13859785,  0.44637227],\n",
       "        [ 0.221605  , -0.43550047,  0.00833815, -0.3154357 ,  0.03713363,\n",
       "          0.5346726 , -0.02407455, -0.0108577 ,  0.1659838 , -0.22927463],\n",
       "        [ 0.13820112, -0.03614563, -0.09639284,  0.12334746, -0.09890077,\n",
       "          0.39305335,  0.2492503 , -0.19570404,  0.42574036, -0.05740902],\n",
       "        [ 0.44022954,  0.17018783, -0.33550566,  0.35064292, -0.4049834 ,\n",
       "         -0.41705203,  0.19623697,  0.40047073,  0.3588531 , -0.3034782 ],\n",
       "        [-0.35479534,  0.41428983, -0.390889  ,  0.14280057,  0.33611548,\n",
       "         -0.28714332, -0.15676671,  0.4424259 , -0.41954532, -0.16608948],\n",
       "        [-0.02384835,  0.13508415, -0.22770065, -0.25299683, -0.07329875,\n",
       "          0.2830072 ,  0.36083645, -0.1664952 , -0.08930692,  0.27662623]],\n",
       "       dtype=float32),\n",
       " array([0., 0., 0., 0., 0., 0., 0., 0., 0., 0.], dtype=float32)]"
      ]
     },
     "execution_count": 29,
     "metadata": {},
     "output_type": "execute_result"
    }
   ],
   "source": [
    "# а вот в предыдущем слое уже матрица весов\n",
    "model.layers[-2].get_weights()"
   ]
  },
  {
   "cell_type": "code",
   "execution_count": 30,
   "metadata": {},
   "outputs": [
    {
     "name": "stdout",
     "output_type": "stream",
     "text": [
      "Model: \"sequential\"\n",
      "_________________________________________________________________\n",
      "Layer (type)                 Output Shape              Param #   \n",
      "=================================================================\n",
      "dense (Dense)                (None, 10)                600       \n",
      "=================================================================\n",
      "Total params: 600\n",
      "Trainable params: 600\n",
      "Non-trainable params: 0\n",
      "_________________________________________________________________\n"
     ]
    }
   ],
   "source": [
    "# в модели можно и удалять не нужные слои, присоединяя новые\n",
    "# например, давайте удалим 2 последних слоя и переделаем модель\n",
    "model.pop()\n",
    "model.pop()\n",
    "\n",
    "model.summary()"
   ]
  },
  {
   "cell_type": "code",
   "execution_count": 31,
   "metadata": {},
   "outputs": [
    {
     "name": "stdout",
     "output_type": "stream",
     "text": [
      "Model: \"sequential\"\n",
      "_________________________________________________________________\n",
      "Layer (type)                 Output Shape              Param #   \n",
      "=================================================================\n",
      "dense (Dense)                (None, 10)                600       \n",
      "_________________________________________________________________\n",
      "very_big_layer (Dense)       (None, 1000)              11000     \n",
      "_________________________________________________________________\n",
      "out (Dense)                  (None, 1)                 1001      \n",
      "=================================================================\n",
      "Total params: 12,601\n",
      "Trainable params: 12,601\n",
      "Non-trainable params: 0\n",
      "_________________________________________________________________\n"
     ]
    }
   ],
   "source": [
    "# добавим 2 слоя\n",
    "model.add(tf.keras.layers.Dense(1000, activation='relu', name='very_big_layer'))\n",
    "model.add(tf.keras.layers.Dense(1, activation='relu', name='out'))\n",
    "\n",
    "model.summary()"
   ]
  },
  {
   "cell_type": "code",
   "execution_count": 32,
   "metadata": {},
   "outputs": [],
   "source": [
    "# для нашей задачи будем использовать чуть более глубокую архитектуру\n",
    "# с тремя промежуточными слоями\n",
    "model = tf.keras.models.Sequential([\n",
    "    tf.keras.layers.Dense(60, activation='relu', input_shape=(X.shape[1],)),\n",
    "    tf.keras.layers.Dense(100, activation='relu'),\n",
    "    tf.keras.layers.Dense(10, activation='relu'),\n",
    "    tf.keras.layers.Dense(1, activation=tf.keras.activations.linear)\n",
    "])"
   ]
  },
  {
   "cell_type": "code",
   "execution_count": 33,
   "metadata": {},
   "outputs": [],
   "source": [
    "# загрузим готовые веса\n",
    "model.load_weights('weights.h5')"
   ]
  },
  {
   "cell_type": "code",
   "execution_count": 34,
   "metadata": {},
   "outputs": [
    {
     "data": {
      "text/plain": [
       "[array([[-0.49175557],\n",
       "        [-0.26270723],\n",
       "        [ 0.5572973 ],\n",
       "        [ 1.0313578 ],\n",
       "        [-1.2322445 ],\n",
       "        [ 0.17110786],\n",
       "        [ 0.77133995],\n",
       "        [-2.3742123 ],\n",
       "        [ 1.0334668 ],\n",
       "        [-0.4283009 ]], dtype=float32),\n",
       " array([4.3187566], dtype=float32)]"
      ]
     },
     "execution_count": 34,
     "metadata": {},
     "output_type": "execute_result"
    }
   ],
   "source": [
    "# посмотрим, например, на веса последнего слоя\n",
    "model.layers[-1].get_weights()"
   ]
  },
  {
   "cell_type": "code",
   "execution_count": 35,
   "metadata": {},
   "outputs": [],
   "source": [
    "# чтобы посчитать значение нашей нейросети на каком-либо векторе,\n",
    "# воспользуемся методом `predict`\n",
    "Y_pred = model.predict(X)"
   ]
  },
  {
   "cell_type": "code",
   "execution_count": 36,
   "metadata": {},
   "outputs": [
    {
     "data": {
      "text/plain": [
       "array([[533.6503 ],\n",
       "       [479.25253],\n",
       "       [278.79514],\n",
       "       ...,\n",
       "       [486.67563],\n",
       "       [470.54608],\n",
       "       [582.6574 ]], dtype=float32)"
      ]
     },
     "execution_count": 36,
     "metadata": {},
     "output_type": "execute_result"
    }
   ],
   "source": [
    "Y_pred"
   ]
  },
  {
   "cell_type": "code",
   "execution_count": 37,
   "metadata": {},
   "outputs": [
    {
     "name": "stdout",
     "output_type": "stream",
     "text": [
      "[533.6503] \t 683\n",
      "[479.25253] \t 480\n",
      "[278.79514] \t 301\n",
      "[398.70383] \t 425\n",
      "[522.4281] \t 617\n",
      "[557.47284] \t 515\n",
      "[205.00832] \t 219\n",
      "[514.7047] \t -11\n",
      "[621.18054] \t 628\n",
      "[292.87457] \t 349\n"
     ]
    }
   ],
   "source": [
    "for i in range(10):\n",
    "    print(Y_pred[i], '\\t', Y[i])"
   ]
  },
  {
   "cell_type": "code",
   "execution_count": 38,
   "metadata": {},
   "outputs": [],
   "source": [
    "# давайте посмотрим, насколько вообще совпадает распределение \n",
    "# полученных оценок с настоящими данными\n",
    "\n",
    "import seaborn as sns"
   ]
  },
  {
   "cell_type": "code",
   "execution_count": 39,
   "metadata": {},
   "outputs": [
    {
     "data": {
      "text/plain": [
       "<matplotlib.axes._subplots.AxesSubplot at 0x1a547e9f4c0>"
      ]
     },
     "execution_count": 39,
     "metadata": {},
     "output_type": "execute_result"
    },
    {
     "data": {
      "image/png": "[encoded data removed]",
      "text/plain": [
       "<Figure size 432x288 with 1 Axes>"
      ]
     },
     "metadata": {
      "needs_background": "light"
     },
     "output_type": "display_data"
    }
   ],
   "source": [
    "sns.distplot(Y)"
   ]
  },
  {
   "cell_type": "code",
   "execution_count": 40,
   "metadata": {},
   "outputs": [
    {
     "data": {
      "text/plain": [
       "<matplotlib.axes._subplots.AxesSubplot at 0x1a549ee8e50>"
      ]
     },
     "execution_count": 40,
     "metadata": {},
     "output_type": "execute_result"
    },
    {
     "data": {
      "image/png": "[encoded data removed]",
      "text/plain": [
       "<Figure size 432x288 with 1 Axes>"
      ]
     },
     "metadata": {
      "needs_background": "light"
     },
     "output_type": "display_data"
    }
   ],
   "source": [
    "sns.distplot(Y_pred)"
   ]
  },
  {
   "cell_type": "code",
   "execution_count": 41,
   "metadata": {},
   "outputs": [
    {
     "data": {
      "text/plain": [
       "<matplotlib.axes._subplots.AxesSubplot at 0x1a54a0e0460>"
      ]
     },
     "execution_count": 41,
     "metadata": {},
     "output_type": "execute_result"
    },
    {
     "data": {
      "image/png": "[encoded data removed]",
      "text/plain": [
       "<Figure size 432x288 with 1 Axes>"
      ]
     },
     "metadata": {
      "needs_background": "light"
     },
     "output_type": "display_data"
    }
   ],
   "source": [
    "sns.distplot([y for y in Y if y < 2000])"
   ]
  },
  {
   "cell_type": "markdown",
   "metadata": {},
   "source": [
    "Как можно видеть, наша модель имеет 2 недостатка:\n",
    "* она не предсказывает экстремально большие значения рейтинга\n",
    "* она не в полной мере отловила дополнительный пик в малых положительных значениях\n",
    "\n",
    "Это во многом связано и с простой структурой модели, и с недостатком данных: трудно понять, выйдет ли пост в Горячее, не зная толком его содержания. Разные посты на одну и ту же тематику ведь могут быть оформлены совершенно по-разному. Так что не удивительно, что по таким табличным характеристикам мы не смогли в полной мере предсказать успех поста.\n",
    "\n",
    "Но давайте посмотрим, насколько хорошо мы предсказываем рейтинг хотя бы \"в среднем\":"
   ]
  },
  {
   "cell_type": "code",
   "execution_count": 42,
   "metadata": {},
   "outputs": [],
   "source": [
    "# посчитаем среднюю абсолютную ошибку на наших данных\n",
    "\n",
    "from sklearn.metrics import mean_absolute_error"
   ]
  },
  {
   "cell_type": "code",
   "execution_count": 43,
   "metadata": {},
   "outputs": [
    {
     "data": {
      "text/plain": [
       "140.2001672030061"
      ]
     },
     "execution_count": 43,
     "metadata": {},
     "output_type": "execute_result"
    }
   ],
   "source": [
    "mean_absolute_error(Y, Y_pred)"
   ]
  },
  {
   "cell_type": "code",
   "execution_count": 44,
   "metadata": {},
   "outputs": [
    {
     "data": {
      "text/plain": [
       "287.9861978214588"
      ]
     },
     "execution_count": 44,
     "metadata": {},
     "output_type": "execute_result"
    }
   ],
   "source": [
    "# давайте сравним с каким-нибудь бейзлайном\n",
    "# какая была бы ошибка, если б мы предсказывали просто средним значением?\n",
    "Y_pred_mean = np.repeat(Y.mean(), len(Y))\n",
    "\n",
    "mean_absolute_error(Y, Y_pred_mean)"
   ]
  },
  {
   "cell_type": "markdown",
   "metadata": {},
   "source": [
    "Итого, при помощи использования простейшей модели нейросети нам удалось предсказать рейтинг постов в 2 раза точнее, чем если бы мы просто брали среднее значение. При этом нам даже не потребовалось изучать содержание самих постов."
   ]
  },
  {
   "cell_type": "code",
   "execution_count": 45,
   "metadata": {},
   "outputs": [
    {
     "data": {
      "text/plain": [
       "492.68788203079475"
      ]
     },
     "execution_count": 45,
     "metadata": {},
     "output_type": "execute_result"
    }
   ],
   "source": [
    "Y.mean()"
   ]
  },
  {
   "cell_type": "code",
   "execution_count": null,
   "metadata": {},
   "outputs": [],
   "source": []
  }
 ],
 "metadata": {
  "kernelspec": {
   "display_name": "Python 3",
   "language": "python",
   "name": "python3"
  },
  "language_info": {
   "codemirror_mode": {
    "name": "ipython",
    "version": 3
   },
   "file_extension": ".py",
   "mimetype": "text/x-python",
   "name": "python",
   "nbconvert_exporter": "python",
   "pygments_lexer": "ipython3",
   "version": "3.8.2"
  }
 },
 "nbformat": 4,
 "nbformat_minor": 4
}
